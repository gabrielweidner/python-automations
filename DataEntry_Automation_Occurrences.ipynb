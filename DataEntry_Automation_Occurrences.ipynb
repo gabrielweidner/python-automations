{
 "cells": [
  {
   "cell_type": "markdown",
   "id": "2f84d19e",
   "metadata": {},
   "source": [
    "## This project focuses on automating a repetitive task within the ERP (SAP) system. Specifically, it aims to automate the process of inserting occurrence codes related to a particular delivery. This automation will streamline and optimize the workflow by eliminating the need for manual input, reducing errors, and improving efficiency in handling delivery-related occurrences within the ERP system."
   ]
  },
  {
   "cell_type": "code",
   "execution_count": 1,
   "id": "4e39f555",
   "metadata": {},
   "outputs": [],
   "source": [
    "import pandas as pd\n",
    "from datetime import datetime,date\n",
    "import win32com.client"
   ]
  },
  {
   "cell_type": "code",
   "execution_count": 2,
   "id": "7e7e00f3",
   "metadata": {},
   "outputs": [],
   "source": [
    "#connection with SAP\n",
    "\n",
    "SapGuiAuto = win32com.client.GetObject('SAPGUI')\n",
    "application = SapGuiAuto.GetScriptingEngine\n",
    "connection = application.Children(0)\n",
    "session = connection.Children(0)\n",
    "now = datetime.now()\n",
    "data_atual = date.today()"
   ]
  },
  {
   "cell_type": "code",
   "execution_count": 3,
   "id": "4a1957a8",
   "metadata": {},
   "outputs": [],
   "source": [
    "# Loading the Excel File\n",
    "df = pd.read_excel('T&T/Ocorrencias/Atualizacao Ocorrencias.xlsx')\n",
    "\n",
    "# Convert the 'Cod. Ocorrencia' column to string type\n",
    "df['Cod. Ocorrencia'] = df['Cod. Ocorrencia'].astype(str)\n",
    "df['resp'] = df['resp'].astype(str)"
   ]
  },
  {
   "cell_type": "code",
   "execution_count": 4,
   "id": "e5873cac",
   "metadata": {},
   "outputs": [],
   "source": [
    "\n",
    "# 2 - Enter the transaction \"zxxxxx\" and select the variant \"xxxxx\"\n",
    "session.findById(\"wnd[0]\").maximize()\n",
    "session.findById(\"wnd[0]/tbar[0]/okcd\").text = \"xxxxx\"\n",
    "session.findById(\"wnd[0]\").sendVKey (0)\n",
    "session.findById(\"wnd[0]/tbar[1]/btn[17]\").press()\n",
    "session.findById(\"wnd[1]/usr/txtENAME-LOW\").text = \"\"\n",
    "session.findById(\"wnd[1]/usr/txtENAME-LOW\").setFocus()\n",
    "session.findById(\"wnd[1]/usr/txtENAME-LOW\").caretPosition = 0\n",
    "session.findById(\"wnd[1]/tbar[0]/btn[8]\").press()\n",
    "session.findById(\"wnd[1]/usr/cntlALV_CONTAINER_1/shellcont/shell\").currentCellRow = 10\n",
    "session.findById(\"wnd[1]/usr/cntlALV_CONTAINER_1/shellcont/shell\").selectedRows = \"10\"\n",
    "session.findById(\"wnd[1]/usr/cntlALV_CONTAINER_1/shellcont/shell\").doubleClickCurrentCell()\n",
    "session.findById(\"wnd[0]/usr/ctxtSO_DOCDT-LOW\").text = \"01.01.2023\"\n",
    "session.findById(\"wnd[0]/usr/ctxtSO_DOCDT-HIGH\").text = data_atual.strftime('%d.%m.%Y')\n",
    "\n",
    "# 4 - Copy the first row from the NF dataset and paste it into SAP\n",
    "for i in range(len(df)):\n",
    "    nf = df.loc[i,'NF']\n",
    "    session.findById(\"wnd[0]/usr/ctxtSO_DOCDT-LOW\").setFocus()\n",
    "    session.findById(\"wnd[0]/usr/ctxtSO_DOCDT-LOW\").caretPosition = 10\n",
    "    session.findById(\"wnd[0]\").sendVKey (0)\n",
    "    session.findById(\"wnd[0]/usr/txtSO_NFE-LOW\").text = str(nf)\n",
    "    session.findById(\"wnd[0]/usr/txtSO_NFE-LOW\").setFocus()\n",
    "    session.findById(\"wnd[0]/usr/txtSO_NFE-LOW\").caretPosition = 5\n",
    "    session.findById(\"wnd[0]/tbar[1]/btn[8]\").press()\n",
    "    session.findById(\"wnd[0]/tbar[1]/btn[9]\").press()\n",
    "    session.findById(\"wnd[1]/tbar[0]/btn[41]\").press()\n",
    "    ocorrencia = df.loc[i,'Cod. Ocorrencia']\n",
    "    resp = df.loc[i,'resp']\n",
    "    session.findById(\"wnd[0]/usr/tabsTBS_OCCUR/tabpTABNFE/ssubTAB_SUBSCR:ZBRLE013R:0205/ctxtZBRLE002T-ZF_CODMT\").text = str(ocorrencia)\n",
    "    session.findById(\"wnd[0]/usr/tabsTBS_OCCUR/tabpTABNFE/ssubTAB_SUBSCR:ZBRLE013R:0205/ctxtZBRLE002T-ZF_CODMT\").caretPosition = 3\n",
    "    session.findById(\"wnd[0]\").sendVKey (0)\n",
    "    session.findById(\"wnd[0]/usr/tabsTBS_OCCUR/tabpTABNFE/ssubTAB_SUBSCR:ZBRLE013R:0205/cmbZBRLE002T-ZF_CODRP\").key = str(resp)\n",
    "    session.findById(\"wnd[0]/usr/tabsTBS_OCCUR/tabpTABNFE/ssubTAB_SUBSCR:ZBRLE013R:0205/cmbZBRLE002T-ZF_CODRP\").setFocus()\n",
    "    session.findById(\"wnd[0]\").sendVKey (0)\n",
    "    session.findById(\"wnd[0]/usr/tabsTBS_OCCUR/tabpTABNFE/ssubTAB_SUBSCR:ZBRLE013R:0205/ctxtZBRLE002T-ZF_DOCAG\").caretPosition = 10\n",
    "    session.findById(\"wnd[0]\").sendVKey (0)\n",
    "    session.findById(\"wnd[0]/tbar[0]/btn[11]\").press()\n",
    "    session.findById(\"wnd[0]/tbar[0]/btn[3]\").press()\n",
    "    session.findById(\"wnd[1]/tbar[0]/btn[0]\").press()\n",
    "    session.findById(\"wnd[0]/tbar[0]/btn[3]\").press()"
   ]
  },
  {
   "cell_type": "markdown",
   "id": "e54a5b0c",
   "metadata": {},
   "source": [
    "### "
   ]
  }
 ],
 "metadata": {
  "kernelspec": {
   "display_name": "Python 3 (ipykernel)",
   "language": "python",
   "name": "python3"
  },
  "language_info": {
   "codemirror_mode": {
    "name": "ipython",
    "version": 3
   },
   "file_extension": ".py",
   "mimetype": "text/x-python",
   "name": "python",
   "nbconvert_exporter": "python",
   "pygments_lexer": "ipython3",
   "version": "3.10.9"
  }
 },
 "nbformat": 4,
 "nbformat_minor": 5
}
