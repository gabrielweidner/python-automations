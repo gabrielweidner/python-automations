{
 "cells": [
  {
   "cell_type": "markdown",
   "id": "5a9f1505",
   "metadata": {},
   "source": [
    "## This project involved a comprehensive data management and visualization initiative focused on order tracking within the company. Multiple databases were extracted and processed, consolidating relevant information into a unified database. This database served as the foundation for generating insights using Power BI. The resulting order tracking report provided a holistic view of the order portfolio, including details such as order statuses, volume metrics, performance analysis comparing actual execution to sales forecasts, and other pertinent information crucial for monitoring and optimizing the order management process."
   ]
  },
  {
   "cell_type": "markdown",
   "id": "4dec2c4f",
   "metadata": {},
   "source": [
    "# 0.0 IMPORTS"
   ]
  },
  {
   "cell_type": "code",
   "execution_count": 1,
   "id": "7ddc7c0a",
   "metadata": {
    "scrolled": true
   },
   "outputs": [],
   "source": [
    "import pandas as pd\n",
    "import datetime\n",
    "import win32com.client\n",
    "from datetime import datetime,date"
   ]
  },
  {
   "cell_type": "code",
   "execution_count": 2,
   "id": "c3de683f",
   "metadata": {},
   "outputs": [],
   "source": [
    "#connection with SAP\n",
    "\n",
    "SapGuiAuto = win32com.client.GetObject('SAPGUI')\n",
    "application = SapGuiAuto.GetScriptingEngine\n",
    "connection = application.Children(0)\n",
    "session = connection.Children(0)\n",
    "now = datetime.now()\n",
    "data_atual = date.today()"
   ]
  },
  {
   "cell_type": "markdown",
   "id": "cc7775b4",
   "metadata": {},
   "source": [
    "# 1.0 DATA EXTRACTION"
   ]
  },
  {
   "cell_type": "markdown",
   "id": "9efc8c84",
   "metadata": {},
   "source": [
    "# 1.1 EXTRACTION data_1 (ORDERS)"
   ]
  },
  {
   "cell_type": "code",
   "execution_count": 3,
   "id": "4a9d7216",
   "metadata": {},
   "outputs": [],
   "source": [
    "#SAP SCRIPT DOING THE ROUTINE\n",
    "\n",
    "session.findById(\"wnd[0]\").maximize()\n",
    "session.findById(\"wnd[0]/tbar[0]/okcd\").text = \"XXXXXXX\"\n",
    "session.findById(\"wnd[0]\").sendVKey (0)\n",
    "session.findById(\"wnd[0]/tbar[1]/btn[17]\").press()\n",
    "session.findById(\"wnd[1]/usr/txtV-LOW\").text = \"XXXXXXX\"\n",
    "session.findById(\"wnd[1]/usr/txtENAME-LOW\").text = \"\"\n",
    "session.findById(\"wnd[1]/usr/txtV-LOW\").caretPosition = 13\n",
    "session.findById(\"wnd[1]/tbar[0]/btn[8]\").press()\n",
    "session.findById(\"wnd[0]/tbar[1]/btn[8]\").press()\n",
    "session.findById(\"wnd[0]/mbar/menu[0]/menu[4]/menu[1]\").select()\n",
    "session.findById(\"wnd[1]/tbar[0]/btn[0]\").press()\n",
    "session.findById(\"wnd[1]/usr/ctxtDY_PATH\").text = \"Atualização_PBI/CS_Extracao_AcompanhamentoDiario\"\n",
    "session.findById(\"wnd[1]/usr/ctxtDY_FILENAME\").text = \"data_1.xlsx\"\n",
    "session.findById(\"wnd[1]/usr/ctxtDY_FILENAME\").caretPosition = 10\n",
    "session.findById(\"wnd[1]/tbar[0]/btn[11]\").press()\n",
    "session.findById(\"wnd[0]/tbar[0]/btn[3]\").press()\n",
    "session.findById(\"wnd[0]/tbar[0]/btn[3]\").press()"
   ]
  },
  {
   "cell_type": "markdown",
   "id": "170cfcd1",
   "metadata": {},
   "source": [
    "## 1.2 EXTRACTION data_2"
   ]
  },
  {
   "cell_type": "code",
   "execution_count": 4,
   "id": "50bc3c60",
   "metadata": {},
   "outputs": [],
   "source": [
    "#SAP SCRIPT DOING THE ROUTINE\n",
    "\n",
    "session.findById(\"wnd[0]\").maximize()\n",
    "session.findById(\"wnd[0]/tbar[0]/okcd\").text = \"ZBRSD038\"\n",
    "session.findById(\"wnd[0]\").sendVKey (0)\n",
    "session.findById(\"wnd[0]/tbar[1]/btn[17]\").press()\n",
    "session.findById(\"wnd[1]/usr/txtV-LOW\").text = \"CUSTOMER BR 1\"\n",
    "session.findById(\"wnd[1]/usr/txtENAME-LOW\").text = \"\"\n",
    "session.findById(\"wnd[1]/usr/txtV-LOW\").caretPosition = 13\n",
    "session.findById(\"wnd[1]\").sendVKey (0)\n",
    "session.findById(\"wnd[1]/tbar[0]/btn[8]\").press()\n",
    "session.findById(\"wnd[0]/tbar[1]/btn[8]\").press()\n",
    "session.findById(\"wnd[0]/mbar/menu[0]/menu[3]/menu[1]\").select()\n",
    "session.findById(\"wnd[1]/tbar[0]/btn[0]\").press()\n",
    "session.findById(\"wnd[1]/usr/ctxtDY_PATH\").text = \"Atualização_PBI/CS_Extracao_AcompanhamentoDiario\"\n",
    "session.findById(\"wnd[1]/usr/ctxtDY_FILENAME\").text = \"data_2.xlsx\"\n",
    "session.findById(\"wnd[1]/usr/ctxtDY_FILENAME\").caretPosition = 8\n",
    "session.findById(\"wnd[1]/tbar[0]/btn[11]\").press()\n",
    "session.findById(\"wnd[0]/tbar[0]/btn[3]\").press()\n",
    "session.findById(\"wnd[0]/tbar[0]/btn[3]\").press()\n"
   ]
  },
  {
   "cell_type": "markdown",
   "id": "99c31042",
   "metadata": {},
   "source": [
    "## 1.3 EXTRACTION data_3"
   ]
  },
  {
   "cell_type": "code",
   "execution_count": 5,
   "id": "09f56db3",
   "metadata": {},
   "outputs": [],
   "source": [
    "#SAP SCRIPT DOING THE ROUTINE\n",
    "\n",
    "session.findById(\"wnd[0]\").maximize()\n",
    "session.findById(\"wnd[0]/tbar[0]/okcd\").text = \"XXXXXX\"\n",
    "session.findById(\"wnd[0]\").sendVKey (0)\n",
    "session.findById(\"wnd[0]/tbar[1]/btn[17]\").press()\n",
    "session.findById(\"wnd[1]/usr/txtENAME-LOW\").text = \"\"\n",
    "session.findById(\"wnd[1]/usr/txtENAME-LOW\").setFocus()\n",
    "session.findById(\"wnd[1]/usr/txtENAME-LOW\").caretPosition = 0\n",
    "session.findById(\"wnd[1]/tbar[0]/btn[8]\").press()\n",
    "session.findById(\"wnd[1]/usr/cntlALV_CONTAINER_1/shellcont/shell\").currentCellRow = 7\n",
    "session.findById(\"wnd[1]/usr/cntlALV_CONTAINER_1/shellcont/shell\").selectedRows = \"7\"\n",
    "session.findById(\"wnd[1]/usr/cntlALV_CONTAINER_1/shellcont/shell\").doubleClickCurrentCell()\n",
    "session.findById(\"wnd[0]/tbar[1]/btn[8]\").press()\n",
    "session.findById(\"wnd[0]/mbar/menu[0]/menu[3]/menu[1]\").select()\n",
    "session.findById(\"wnd[1]/tbar[0]/btn[0]\").press()\n",
    "session.findById(\"wnd[1]/usr/ctxtDY_PATH\").text = \"Atualização_PBI/CS_Extracao_AcompanhamentoDiario\"\n",
    "session.findById(\"wnd[1]/usr/ctxtDY_FILENAME\").text = \"data_4.xlsx\"\n",
    "session.findById(\"wnd[1]/usr/ctxtDY_FILENAME\").caretPosition = 8\n",
    "session.findById(\"wnd[1]/tbar[0]/btn[11]\").press()\n",
    "session.findById(\"wnd[0]/tbar[0]/btn[3]\").press()\n",
    "session.findById(\"wnd[0]/tbar[0]/btn[3]\").press()\n"
   ]
  },
  {
   "cell_type": "markdown",
   "id": "152a4ed8",
   "metadata": {},
   "source": [
    "## 1.4 EXTRACTION data_4 (STOCK QUERY)\n",
    "\n"
   ]
  },
  {
   "cell_type": "code",
   "execution_count": 6,
   "id": "332d8a49",
   "metadata": {},
   "outputs": [],
   "source": [
    "#SAP SCRIPT\n",
    "\n",
    "session.findById(\"wnd[0]\").maximize()\n",
    "session.findById(\"wnd[0]/tbar[0]/okcd\").text = \"mb52\"\n",
    "session.findById(\"wnd[0]\").sendVKey (0)\n",
    "session.findById(\"wnd[0]/tbar[1]/btn[17]\").press()\n",
    "session.findById(\"wnd[1]/usr/txtV-LOW\").text = \"CUSTOMER BR\"\n",
    "session.findById(\"wnd[1]/usr/txtENAME-LOW\").text = \"\"\n",
    "session.findById(\"wnd[1]/usr/txtV-LOW\").caretPosition = 12\n",
    "session.findById(\"wnd[1]/tbar[0]/btn[8]\").press()\n",
    "session.findById(\"wnd[0]/tbar[1]/btn[8]\").press()\n",
    "session.findById(\"wnd[0]/mbar/menu[0]/menu[1]/menu[1]\").select()\n",
    "session.findById(\"wnd[1]/tbar[0]/btn[0]\").press()\n",
    "session.findById(\"wnd[1]/usr/ctxtDY_PATH\").text = \"C:/Users/03080139/OneDrive - DAVIDE CAMPARI MILANO S.P.A/Atualização_PBI/CS_Extracao_AcompanhamentoDiario\"\n",
    "session.findById(\"wnd[1]/usr/ctxtDY_FILENAME\").text = \"data_4.xlsx\"\n",
    "session.findById(\"wnd[1]/usr/ctxtDY_FILENAME\").caretPosition = 17\n",
    "session.findById(\"wnd[1]/tbar[0]/btn[11]\").press()\n",
    "session.findById(\"wnd[0]/tbar[0]/btn[3]\").press()\n",
    "session.findById(\"wnd[0]/tbar[0]/btn[3]\").press()\n"
   ]
  },
  {
   "cell_type": "markdown",
   "id": "9e08aaef",
   "metadata": {},
   "source": [
    "# 2.0 LOADING THE DATABASES"
   ]
  },
  {
   "cell_type": "code",
   "execution_count": 8,
   "id": "998377a0",
   "metadata": {},
   "outputs": [],
   "source": [
    "#Load All bases\n",
    "\n",
    "zva05 = pd.read_excel('data_1.xlsx')\n",
    "\n",
    "zbrsd038  = pd.read_excel('data_2.xlsx')\n",
    "\n",
    "zbrsd027 = pd.read_excel('data_3.xlsx')\n"
   ]
  },
  {
   "cell_type": "markdown",
   "id": "e7c19385",
   "metadata": {},
   "source": [
    "# 3.0 DATA PREPARATION"
   ]
  },
  {
   "cell_type": "code",
   "execution_count": 9,
   "id": "deca389b",
   "metadata": {},
   "outputs": [],
   "source": [
    "# Eliminando linhas em branco\n",
    "zva05['Doc.venda'] = zva05['Doc.venda'].fillna(0)\n",
    "zbrsd038['Documento de vendas'] = zbrsd038['Documento de vendas'].fillna(0)\n",
    "zbrsd027['Ordem Venda'] = zbrsd027['Ordem Venda'].fillna(0)"
   ]
  },
  {
   "cell_type": "code",
   "execution_count": 10,
   "id": "8d50f07e",
   "metadata": {},
   "outputs": [],
   "source": [
    "#Transformação em INT para Criar chave\n",
    "zva05['Doc.venda'] = zva05['Doc.venda'].astype(int)\n",
    "zbrsd038['Documento de vendas'] = zbrsd038['Documento de vendas'].astype(int)\n",
    "zbrsd027['Ordem Venda'] = zbrsd027['Ordem Venda'].astype(int)\n",
    "zbrsd027['Matarial'] = zbrsd027['Material'].astype(int)\n",
    "\n",
    "#renomeando colunas para fazer o merge\n",
    "zva05 = zva05.rename(columns={'Doc.venda': 'Ordem'})\n",
    "zva05 = zva05.rename(columns={'Remessa': 'Delivery'})\n",
    "zbrsd038 = zbrsd038.rename(columns={'Documento de vendas': 'Ordem'})\n",
    "zbrsd038 = zbrsd038.rename(columns={'Número da remessa': 'Delivery'})\n",
    "zbrsd027 = zbrsd027.rename(columns={'Ordem Venda': 'Ordem'})\n",
    "zbrsd027 = zbrsd027.rename(columns={'Material': 'SKU'})"
   ]
  },
  {
   "cell_type": "markdown",
   "id": "06436503",
   "metadata": {
    "heading_collapsed": true
   },
   "source": [
    "# 4.0 MERGE BETWEEN THE TABLES"
   ]
  },
  {
   "cell_type": "markdown",
   "id": "6cc1b5cc",
   "metadata": {
    "heading_collapsed": true,
    "hidden": true
   },
   "source": [
    "## 4.1 MERGE (1)  zbrsd027 + zva05 "
   ]
  },
  {
   "cell_type": "code",
   "execution_count": 11,
   "id": "a01de80d",
   "metadata": {
    "hidden": true
   },
   "outputs": [],
   "source": [
    "\n",
    "# Agrupando a zva05 pela ordem\n",
    "zva05_grouped = zva05.groupby('Ordem').agg({'Delivery':'first'}).reset_index()\n",
    "\n",
    "# Merge zva05 + zbrsd027\n",
    "zbrsd027_zva05 = zbrsd027.merge(zva05_grouped, on='Ordem',how= 'left')\n"
   ]
  },
  {
   "cell_type": "markdown",
   "id": "a4baa892",
   "metadata": {},
   "source": [
    "## 4.2 MERGE (2)  zbrsd027 + zva05 + zbrsd038"
   ]
  },
  {
   "cell_type": "code",
   "execution_count": 12,
   "id": "29dde1eb",
   "metadata": {},
   "outputs": [],
   "source": [
    "# Agrupando a 038 pela Delivery\n",
    "zbrsd038_grouped = zva05.groupby('Delivery').agg({'Data do faturamento':'first'}).reset_index()\n",
    "\n",
    "# Merge zva05 + zsd05 \n",
    "zbrsd027_zva05_zbrsd038 = zbrsd027_zva05.merge(zbrsd038_grouped, on='Delivery',how= 'left')"
   ]
  },
  {
   "cell_type": "markdown",
   "id": "0a35f288",
   "metadata": {},
   "source": [
    "# 5.0 EXPORT FINAL FILE BASES"
   ]
  },
  {
   "cell_type": "code",
   "execution_count": 13,
   "id": "ef355920",
   "metadata": {},
   "outputs": [],
   "source": [
    "zbrsd027_zva05_zbrsd038.to_excel('Acompanhamento_Diario.xlsx', index=False)"
   ]
  }
 ],
 "metadata": {
  "hide_input": false,
  "kernelspec": {
   "display_name": "Python 3 (ipykernel)",
   "language": "python",
   "name": "python3"
  },
  "language_info": {
   "codemirror_mode": {
    "name": "ipython",
    "version": 3
   },
   "file_extension": ".py",
   "mimetype": "text/x-python",
   "name": "python",
   "nbconvert_exporter": "python",
   "pygments_lexer": "ipython3",
   "version": "3.11.4"
  }
 },
 "nbformat": 4,
 "nbformat_minor": 5
}
