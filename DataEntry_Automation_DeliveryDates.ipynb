{
 "cells": [
  {
   "cell_type": "markdown",
   "id": "0093e186",
   "metadata": {},
   "source": [
    "## This project is centered around automating a repetitive task within the ERP (SAP) system. Specifically, it aims to automate the input of delivery dates into the system. By automating this task, the project aims to improve efficiency, reduce manual errors, and streamline the process of managing delivery dates within the ERP system."
   ]
  },
  {
   "cell_type": "code",
   "execution_count": 1,
   "id": "4e39f555",
   "metadata": {},
   "outputs": [],
   "source": [
    "import win32com.client\n",
    "import pandas as pd\n",
    "from datetime import datetime,date\n",
    "import os"
   ]
  },
  {
   "cell_type": "code",
   "execution_count": 3,
   "id": "4a1957a8",
   "metadata": {},
   "outputs": [],
   "source": [
    "# Connecting to SAP\n",
    "\n",
    "SapGuiAuto = win32com.client.GetObject('SAPGUI')\n",
    "application = SapGuiAuto.GetScriptingEngine\n",
    "connection = application.Children(0)\n",
    "session = connection.Children(0)\n",
    "now = datetime.now()\n",
    "data_atual = date.today()"
   ]
  },
  {
   "cell_type": "code",
   "execution_count": 4,
   "id": "d92f4583",
   "metadata": {},
   "outputs": [],
   "source": [
    "# Loading the Excel File\n",
    "\n",
    "file_path = 'Documentos/PORTFOLIO/Python/BaseT&T.xlsx'\n",
    "file_path = 'Documentos/PORTFOLIO/Python/BaseT&T.xlsx'\n",
    "\n",
    "# Convert the path to an absolute form\n",
    "file_path = os.path.abspath('Documentos/PORTFOLIO/Python/BaseT&T.xlsx')\n",
    "\n",
    "# Loading the Excel File\n",
    "df = pd.read_excel(file_path)\n",
    "\n",
    "# Replace NaN values in the 'Nº NF-e' column with 0 and convert the column to integer type\n",
    "df['Nº NF-e'] = df['Nº NF-e'].fillna(0)\n",
    "df['Nº NF-e'] = df['Nº NF-e'].fillna(0)\n",
    "df['Nº NF-e'] = df['Nº NF-e'].astype(int)"
   ]
  },
  {
   "cell_type": "code",
   "execution_count": 5,
   "id": "e3eedd3c",
   "metadata": {},
   "outputs": [],
   "source": [
    "# Filtering the non-updated data\n",
    "df = df[df['dt entrega atualizado'] == \"NÃO\"].reset_index()\n",
    "\n",
    "df['Dt/Inform'] = df['Dt/Inform'].dt.strftime('%d.%m.%Y')"
   ]
  },
  {
   "cell_type": "code",
   "execution_count": 6,
   "id": "a897a806",
   "metadata": {},
   "outputs": [],
   "source": [
    "# Script in SAP to execute the routine in a loop\n",
    "session.findById(\"wnd[0]\").maximize()\n",
    "session.findById(\"wnd[0]/tbar[0]/okcd\").text = \"xxxxx\"\n",
    "session.findById(\"wnd[0]\").sendVKey (0)\n",
    "session.findById(\"wnd[0]/tbar[1]/btn[17]\").press()\n",
    "session.findById(\"wnd[1]/usr/txtENAME-LOW\").text = \"\"\n",
    "session.findById(\"wnd[1]/usr/txtENAME-LOW\").setFocus()\n",
    "session.findById(\"wnd[1]/usr/txtENAME-LOW\").caretPosition = 0\n",
    "session.findById(\"wnd[1]/tbar[0]/btn[8]\").press()\n",
    "session.findById(\"wnd[1]/usr/cntlALV_CONTAINER_1/shellcont/shell\").currentCellRow = 10\n",
    "session.findById(\"wnd[1]/usr/cntlALV_CONTAINER_1/shellcont/shell\").selectedRows = \"10\"\n",
    "session.findById(\"wnd[1]/usr/cntlALV_CONTAINER_1/shellcont/shell\").doubleClickCurrentCell()\n",
    "session.findById(\"wnd[0]/usr/ctxtSO_DOCDT-LOW\").text = \"01.01.2023\"\n",
    "session.findById(\"wnd[0]/usr/ctxtSO_DOCDT-HIGH\").text = data_atual.strftime('%d.%m.%Y')\n",
    "for i in range(len(df)):\n",
    "    nf = df.loc[i,'Nº NF-e']\n",
    "    data = df.loc[i,'Dt/Inform']\n",
    "    session.findById(\"wnd[0]/usr/txtSO_NFE-LOW\").text = str(nf)\n",
    "    session.findById(\"wnd[0]/usr/txtSO_NFE-LOW\").setFocus()\n",
    "    session.findById(\"wnd[0]/usr/txtSO_NFE-LOW\").caretPosition = 5\n",
    "    session.findById(\"wnd[0]/tbar[1]/btn[8]\").press()\n",
    "    session.findById(\"wnd[0]/tbar[1]/btn[13]\").press()\n",
    "    session.findById(\"wnd[0]/usr/tblZBRLE013RTC_NF/txtWA_NF-DTPREVINF[8,0]\").text = str(data)\n",
    "    session.findById(\"wnd[0]/usr/tblZBRLE013RTC_NF/txtWA_NF-DTPREVINF[8,0]\").setFocus()\n",
    "    session.findById(\"wnd[0]/usr/tblZBRLE013RTC_NF/txtWA_NF-DTPREVINF[8,0]\").caretPosition = 10\n",
    "    session.findById(\"wnd[0]/tbar[0]/btn[11]\").press()\n",
    "    session.findById(\"wnd[0]/tbar[0]/btn[3]\").press()\n",
    "    session.findById(\"wnd[1]/usr/btnBUTTON_1\").press()\n",
    "    session.findById(\"wnd[0]/tbar[0]/btn[3]\").press()"
   ]
  }
 ],
 "metadata": {
  "hide_input": false,
  "kernelspec": {
   "display_name": "Python 3 (ipykernel)",
   "language": "python",
   "name": "python3"
  },
  "language_info": {
   "codemirror_mode": {
    "name": "ipython",
    "version": 3
   },
   "file_extension": ".py",
   "mimetype": "text/x-python",
   "name": "python",
   "nbconvert_exporter": "python",
   "pygments_lexer": "ipython3",
   "version": "3.10.9"
  }
 },
 "nbformat": 4,
 "nbformat_minor": 5
}
