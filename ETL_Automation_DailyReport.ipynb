{
 "cells": [
  {
   "cell_type": "markdown",
   "id": "82ef308a",
   "metadata": {},
   "source": [
    "## This project involves creating a daily report that is crucial for both salespeople within the company and partner clients. The report contains detailed information about each order, including the order number, status, scheduling dates for collection and delivery, lead time, cancellations, returns, delivery dates, and more. It aims to provide a comprehensive overview of the order lifecycle and key details relevant to sales and customer service operations."
   ]
  },
  {
   "cell_type": "markdown",
   "id": "4dec2c4f",
   "metadata": {},
   "source": [
    "# 0.0 IMPORTS"
   ]
  },
  {
   "cell_type": "code",
   "execution_count": 1,
   "id": "7ddc7c0a",
   "metadata": {
    "scrolled": true
   },
   "outputs": [],
   "source": [
    "import pandas as pd\n",
    "import datetime\n",
    "import pyautogui\n",
    "import glob\n",
    "import win32com.client\n",
    "from datetime import datetime,date\n",
    "pyautogui.FAILSAFE = True"
   ]
  },
  {
   "cell_type": "code",
   "execution_count": 2,
   "id": "8c7fae00",
   "metadata": {},
   "outputs": [],
   "source": [
    "#connection with SAP\n",
    "\n",
    "SapGuiAuto = win32com.client.GetObject('SAPGUI')\n",
    "application = SapGuiAuto.GetScriptingEngine\n",
    "connection = application.Children(0)\n",
    "session = connection.Children(0)\n",
    "now = datetime.now()\n",
    "data_atual = date.today()"
   ]
  },
  {
   "cell_type": "markdown",
   "id": "9e08aaef",
   "metadata": {},
   "source": [
    "# 2.0 EXTRACTING DATABASES"
   ]
  },
  {
   "cell_type": "code",
   "execution_count": 3,
   "id": "096eed6e",
   "metadata": {},
   "outputs": [],
   "source": [
    "# Extraction 002N (EXPECTED DATE ACCORDING TO LEAD TIME) via SAP SCRIPT\n",
    "\n",
    "\n",
    "session.findById(\"wnd[0]\").maximize()\n",
    "session.findById(\"wnd[0]/tbar[0]/okcd\").text = \"002n\"\n",
    "session.findById(\"wnd[0]\").sendVKey (0)\n",
    "session.findById(\"wnd[0]/tbar[1]/btn[17]\").press()\n",
    "session.findById(\"wnd[1]/usr/txtV-LOW\").text = \"XXXXXX\"\n",
    "session.findById(\"wnd[1]/usr/txtENAME-LOW\").text = \"\"\n",
    "session.findById(\"wnd[1]/usr/txtV-LOW\").caretPosition = 12\n",
    "session.findById(\"wnd[1]/tbar[0]/btn[8]\").press()\n",
    "session.findById(\"wnd[0]/tbar[1]/btn[8]\").press()\n",
    "session.findById(\"wnd[0]/tbar[1]/btn[43]\").press()\n",
    "session.findById(\"wnd[1]/tbar[0]/btn[0]\").press()\n",
    "session.findById(\"wnd[1]/usr/ctxtDY_PATH\").text = \"Atualização_PBI/CS_Extracao_AcompanhamentoDiario\"\n",
    "session.findById(\"wnd[1]/usr/ctxtDY_FILENAME\").text = \"dt_prevista.xlsx\"\n",
    "session.findById(\"wnd[1]/usr/ctxtDY_FILENAME\").caretPosition = 16\n",
    "session.findById(\"wnd[1]/tbar[0]/btn[11]\").press()\n",
    "session.findById(\"wnd[0]/tbar[0]/btn[3]\").press()\n",
    "session.findById(\"wnd[0]/tbar[0]/btn[3]\").press()\n",
    "\n"
   ]
  },
  {
   "cell_type": "code",
   "execution_count": 15,
   "id": "5869b63e",
   "metadata": {},
   "outputs": [],
   "source": [
    "# Extraction VA05 (Order block Information) via SAP SCRIPT\n",
    "\n",
    "\n",
    "session.findById(\"wnd[0]\").maximize()\n",
    "session.findById(\"wnd[0]/tbar[0]/okcd\").text = \"va05\"\n",
    "session.findById(\"wnd[0]\").sendVKey (0)\n",
    "session.findById(\"wnd[0]/tbar[1]/btn[17]\").press()\n",
    "session.findById(\"wnd[1]/usr/txtV-LOW\").text = \"XXXXXXXXX\"\n",
    "session.findById(\"wnd[1]/usr/txtENAME-LOW\").text = \"\"\n",
    "session.findById(\"wnd[1]/usr/txtV-LOW\").caretPosition = 13\n",
    "session.findById(\"wnd[1]/tbar[0]/btn[8]\").press()\n",
    "session.findById(\"wnd[0]/tbar[1]/btn[8]\").press()\n",
    "session.findById(\"wnd[0]/tbar[1]/btn[33]\").press()\n",
    "session.findById(\"wnd[1]/usr/subSUB_CONFIGURATION:SAPLSALV_CUL_LAYOUT_CHOOSE:0500/cntlD500_CONTAINER/shellcont/shell\").currentCellRow = 18\n",
    "session.findById(\"wnd[1]/usr/subSUB_CONFIGURATION:SAPLSALV_CUL_LAYOUT_CHOOSE:0500/cntlD500_CONTAINER/shellcont/shell\").selectedRows = \"18\"\n",
    "session.findById(\"wnd[1]/usr/subSUB_CONFIGURATION:SAPLSALV_CUL_LAYOUT_CHOOSE:0500/cntlD500_CONTAINER/shellcont/shell\").clickCurrentCell()\n",
    "session.findById(\"wnd[0]/mbar/menu[0]/menu[3]/menu[1]\").select()\n",
    "session.findById(\"wnd[1]/tbar[0]/btn[0]\").press()\n",
    "session.findById(\"wnd[1]/usr/ctxtDY_PATH\").text = \"Atualização_PBI/CS_Extracao_AcompanhamentoDiario\"\n",
    "session.findById(\"wnd[1]/usr/ctxtDY_FILENAME\").text = \"va05.xlsx\"\n",
    "session.findById(\"wnd[1]/usr/ctxtDY_FILENAME\").caretPosition = 9\n",
    "session.findById(\"wnd[1]/tbar[0]/btn[11]\").press()\n",
    "session.findById(\"wnd[0]/tbar[0]/btn[3]\").press()\n",
    "session.findById(\"wnd[0]/tbar[0]/btn[3]\").press()\n"
   ]
  },
  {
   "cell_type": "markdown",
   "id": "3e225274",
   "metadata": {},
   "source": [
    "# 2.0 LOADING THE DATABASES"
   ]
  },
  {
   "cell_type": "code",
   "execution_count": 16,
   "id": "998377a0",
   "metadata": {},
   "outputs": [
    {
     "name": "stderr",
     "output_type": "stream",
     "text": [
      "C:\\ProgramData\\anaconda3\\lib\\site-packages\\openpyxl\\worksheet\\_read_only.py:79: UserWarning: Unknown extension is not supported and will be removed\n",
      "  for idx, row in parser.parse():\n",
      "C:\\ProgramData\\anaconda3\\lib\\site-packages\\openpyxl\\worksheet\\_read_only.py:79: UserWarning: Unknown extension is not supported and will be removed\n",
      "  for idx, row in parser.parse():\n",
      "C:\\ProgramData\\anaconda3\\lib\\site-packages\\openpyxl\\worksheet\\_read_only.py:79: UserWarning: Unknown extension is not supported and will be removed\n",
      "  for idx, row in parser.parse():\n",
      "C:\\ProgramData\\anaconda3\\lib\\site-packages\\openpyxl\\worksheet\\_read_only.py:79: UserWarning: Unknown extension is not supported and will be removed\n",
      "  for idx, row in parser.parse():\n",
      "C:\\ProgramData\\anaconda3\\lib\\site-packages\\openpyxl\\worksheet\\_read_only.py:79: UserWarning: Unknown extension is not supported and will be removed\n",
      "  for idx, row in parser.parse():\n"
     ]
    }
   ],
   "source": [
    "# Load Excel files into separate DataFrames\n",
    "zva05 = pd.read_excel('zva05.xlsx')\n",
    "zbrsd038  = pd.read_excel('038.xlsx')\n",
    "zbrle002n = pd.read_excel('dt_prevista.xlsx')\n",
    "va05 = pd.read_excel('va05.xlsx')\n",
    "baseSKU = pd.read_excel('Base de SKU.xlsx')\n",
    "baseClientes = pd.read_excel('Base de Clientes.xlsx')\n",
    "zbrsd027 = pd.read_excel('027.xlsx')\n",
    "\n",
    "# Lista de arquivos Excel na pasta\n",
    "pasta = 'Documentos/Planilhas de Agendamento'\n",
    "arquivos_excel = glob.glob(pasta + '/*.xlsx')\n",
    "\n",
    "# Initialize empty list for DataFrames\n",
    "df_list = []\n",
    "\n",
    "\n",
    "# Read Excel files from folder and append DataFrames to df_list\n",
    "sheet_name = 'Agendamento '\n",
    "for arquivo in arquivos_excel:\n",
    "    df = pd.read_excel(arquivo, sheet_name=sheet_name,skiprows=4, header=0)\n",
    "    df_list.append(df)\n",
    "    \n",
    "# Concatenate DataFrames into a single DataFrame\n",
    "df_ag = pd.concat(df_list, ignore_index=True)"
   ]
  },
  {
   "cell_type": "markdown",
   "id": "e7c19385",
   "metadata": {},
   "source": [
    "# 3.0 DATA PREPARATION"
   ]
  },
  {
   "cell_type": "code",
   "execution_count": 17,
   "id": "deca389b",
   "metadata": {},
   "outputs": [],
   "source": [
    "# Removing blank rows\n",
    "zva05['Doc.venda'] = zva05['Doc.venda'].fillna(0)\n",
    "zbrsd038['Documento de vendas'] = zbrsd038['Documento de vendas'].fillna(0)\n",
    "df_ag['Ordem Venda'] = df_ag['Ordem Venda'].fillna(0)\n",
    "zbrsd027['Ordem Venda'] = zbrsd027['Ordem Venda'].fillna(0)"
   ]
  },
  {
   "cell_type": "code",
   "execution_count": 18,
   "id": "8d50f07e",
   "metadata": {},
   "outputs": [],
   "source": [
    "# Transformation to INT to Create Key\n",
    "zva05['Doc.venda'] = zva05['Doc.venda'].astype(int)\n",
    "zbrsd038['Documento de vendas'] = zbrsd038['Documento de vendas'].astype(int)\n",
    "df_ag['Ordem Venda'] = df_ag['Ordem Venda'].astype(int)\n",
    "va05['Documento de vendas'] = va05['Documento de vendas'].astype(int)\n",
    "zbrle002n['Número de nota fiscal eletrônica'] = zbrle002n['Número de nota fiscal eletrônica'].astype(int)\n",
    "zbrsd027['Ordem Venda'] = zbrsd027['Ordem Venda'].astype(int)\n",
    "\n",
    "# Renaming columns for merging\n",
    "zva05 = zva05.rename(columns={'Doc.venda': 'Ordem de Venda', 'Remessa': 'Delivery', 'Referência cliente': 'Nº pedido cliente', 'Sold-to Code': \"Cód Cliente\", 'Sold-to Name': \"Cliente\",'Material':'SKU', 'Nº do material':'Descrição SKU', 'Conf Qty': 'Volume (Cxs)', 'Return':'Devolução', 'Dt.carreg.': 'Data Agendada Coleta', 'Data doc.': 'Data Criação Pedido', 'Cen.': 'Centro', 'Del Date':'Data Criação Delivery' })\n",
    "zbrsd038 = zbrsd038.rename(columns={'Documento de vendas': 'Ordem de Venda', 'Número da remessa' : 'Delivery', 'Número de nota fiscal eletrônica': 'NF'})\n",
    "df_ag = df_ag.rename(columns={'Ordem Venda': 'Ordem de Venda', 'Remessa': 'Delivery'})\n",
    "va05 = va05.rename(columns={'Documento de vendas': 'Ordem de Venda', 'Bloqueio remessa': 'Bloqueio EDI'})\n",
    "zbrle002n = zbrle002n.rename(columns={'Número de nota fiscal eletrônica': 'NF'})\n",
    "baseSKU = baseSKU.rename(columns={'De/SKU': 'SKU'})\n",
    "baseClientes = baseClientes.rename(columns={'Cliente': 'Cód Cliente'})\n",
    "zbrsd027 = zbrsd027.rename(columns={'Ordem Venda': 'Ordem de Venda'})\n",
    "\n",
    "# Deleting unnecessary columns\n",
    "colunas_para_excluir = ['Ship-to Code', 'Ship-to Name', 'SaídaMerc', 'EscrV', 'Sales Group']\n",
    "zva05 = zva05.drop(columns=colunas_para_excluir)"
   ]
  },
  {
   "cell_type": "markdown",
   "id": "06436503",
   "metadata": {
    "heading_collapsed": true
   },
   "source": [
    "# 4.0 MERGE BETWEEN THE TABLES"
   ]
  },
  {
   "cell_type": "markdown",
   "id": "6cc1b5cc",
   "metadata": {
    "heading_collapsed": true,
    "hidden": true
   },
   "source": [
    "## 4.1 MERGE (1)  zva05 + zbrsd038 "
   ]
  },
  {
   "cell_type": "code",
   "execution_count": 19,
   "id": "a01de80d",
   "metadata": {
    "hidden": true
   },
   "outputs": [],
   "source": [
    "\n",
    "# Agrupando a zva05 pela ordem\n",
    "zbrsd038_grouped = zbrsd038.groupby('Delivery').agg({'NF':'first','Data de carregamento':'first', 'Data Entrega Informação':'first'}).reset_index()\n",
    "\n",
    "# Merge zva05 + zbrsd038\n",
    "zva05_zbrsd038 = zva05.merge(zbrsd038_grouped, on='Delivery',how= 'left')\n"
   ]
  },
  {
   "cell_type": "markdown",
   "id": "a4baa892",
   "metadata": {},
   "source": [
    "## 4.2 MERGE (2)  zva05 + zbrsd038 + zbrle002n"
   ]
  },
  {
   "cell_type": "code",
   "execution_count": 20,
   "id": "29dde1eb",
   "metadata": {},
   "outputs": [],
   "source": [
    "# Agrupando a 002 pela NF\n",
    "zbrle002n_grouped = zbrle002n.groupby('NF').agg({'Data Prevista':'first'}).reset_index()\n",
    "\n",
    "# Merge zva05 + zbrsd038 + zbrle002n\n",
    "zva05_zbrsd038_zbrle002n = zva05_zbrsd038.merge(zbrle002n_grouped, on='NF',how= 'left')"
   ]
  },
  {
   "cell_type": "markdown",
   "id": "f8a417e0",
   "metadata": {},
   "source": [
    "## 4.3 MERGE (3)  zva05 + zbrsd038 + zbrle002n +  Agendamento"
   ]
  },
  {
   "cell_type": "code",
   "execution_count": 21,
   "id": "09d5f5eb",
   "metadata": {},
   "outputs": [],
   "source": [
    "# Agrupando a Agenda pela Ordem de Venda\n",
    "df_ag_grouped = df_ag.groupby('Ordem de Venda').agg({'Data Agenda':'first','Status da Agenda':'first', 'Observação Nfe':'first'}).reset_index()\n",
    "\n",
    "# Merge zva05 + zbrsd038 + zbrle002n + Agendamentos\n",
    "zva05_zbrsd038_zbrle002n_dfag = zva05_zbrsd038_zbrle002n.merge(df_ag_grouped, on='Ordem de Venda',how= 'left')"
   ]
  },
  {
   "cell_type": "markdown",
   "id": "9e43187a",
   "metadata": {},
   "source": [
    "## 4.4 MERGE (4)  zva05 + zbrsd038 + zbrle002n + Agendamento + va05"
   ]
  },
  {
   "cell_type": "code",
   "execution_count": 22,
   "id": "2a82cf00",
   "metadata": {},
   "outputs": [],
   "source": [
    "# Agrupando a VA05 pela Ordem de Venda\n",
    "va05_grouped = va05.groupby('Ordem de Venda').agg({'Bloqueio EDI':'first'}).reset_index()\n",
    "\n",
    "# Merge zva05 + zbrsd038 + zbrle002n + Agendamentos + VA05\n",
    "zva05_zbrsd038_zbrle002n_dfag_va05 = zva05_zbrsd038_zbrle002n_dfag.merge(va05_grouped, on='Ordem de Venda',how= 'left')"
   ]
  },
  {
   "cell_type": "markdown",
   "id": "f5720ce8",
   "metadata": {},
   "source": [
    "## 4.5 MERGE (5)  zva05 + zbrsd038 + zbrle002n + va05 + Agendamento + va05 + baseSKU"
   ]
  },
  {
   "cell_type": "code",
   "execution_count": 23,
   "id": "486af975",
   "metadata": {},
   "outputs": [],
   "source": [
    "# Agrupando a base de SKU pelo numero do SKU\n",
    "SKU_grouped = baseSKU.groupby('SKU').agg({'Sub Marca':'first'}).reset_index()\n",
    "\n",
    "# Merge zva05 + zbrsd038 + zbrle002n + Agendamentos + VA05 + base SKU\n",
    "zva05_zbrsd038_zbrle002n_dfag_va05_SKU = zva05_zbrsd038_zbrle002n_dfag_va05.merge(SKU_grouped, on='SKU',how= 'left')"
   ]
  },
  {
   "cell_type": "markdown",
   "id": "0a2f65a2",
   "metadata": {},
   "source": [
    "###### 4.6 MERGE (6)  zva05 + zbrsd038 + zbrle002n + va05 + Agendamento + va05 + baseSKU + baseClientes"
   ]
  },
  {
   "cell_type": "code",
   "execution_count": 24,
   "id": "a3ad9328",
   "metadata": {},
   "outputs": [],
   "source": [
    "# Agrupando a base de clientes pelo código do cliente\n",
    "Clientes_grouped = baseClientes.groupby('Cód Cliente').agg({'Cidade':'first','U.F.':'first', 'Regional':'first', 'Vendedor':'first', 'Segmentação':'first' }).reset_index()\n",
    "\n",
    "# Merge zva05 + zbrsd038 + zbrle002n + Agendamentos + VA05 + base SKU + base de clientes\n",
    "zva05_zbrsd038_zbrle002n_dfag_va05_SKU_Clientes = zva05_zbrsd038_zbrle002n_dfag_va05_SKU.merge(Clientes_grouped, on='Cód Cliente',how= 'left')"
   ]
  },
  {
   "cell_type": "markdown",
   "id": "d21f3826",
   "metadata": {},
   "source": [
    "## 4.7 MERGE (7)  zva05 + zbrsd038 + zbrle002n + va05 + Agendamento + va05 + baseSKU + baseClientes + zbrsd027"
   ]
  },
  {
   "cell_type": "code",
   "execution_count": 25,
   "id": "53141c01",
   "metadata": {},
   "outputs": [],
   "source": [
    "# Agrupando a base zbrsd027 pela ordem de venda\n",
    "zbrsd027_grouped = zbrsd027.groupby('Ordem de Venda').agg({'Status Pedido':'first'}).reset_index()\n",
    "\n",
    "# Merge zva05 + zbrsd038 + zbrle002n + Agendamentos + VA05 + base SKU + base de clientes + 027\n",
    "zva05_zbrsd038_zbrle002n_dfag_va05_SKU_Clientes_027 = zva05_zbrsd038_zbrle002n_dfag_va05_SKU_Clientes.merge(zbrsd027_grouped, on='Ordem de Venda',how= 'left')"
   ]
  },
  {
   "cell_type": "markdown",
   "id": "0a35f288",
   "metadata": {},
   "source": [
    "# 5.0 EXPORT FINAL FILE BASES"
   ]
  },
  {
   "cell_type": "code",
   "execution_count": 26,
   "id": "ef355920",
   "metadata": {},
   "outputs": [],
   "source": [
    "zva05_zbrsd038_zbrle002n_dfag_va05_SKU_Clientes_027.to_excel('Extracao_Report_Diario_2024.xlsx', index=False)"
   ]
  }
 ],
 "metadata": {
  "hide_input": false,
  "kernelspec": {
   "display_name": "Python 3 (ipykernel)",
   "language": "python",
   "name": "python3"
  },
  "language_info": {
   "codemirror_mode": {
    "name": "ipython",
    "version": 3
   },
   "file_extension": ".py",
   "mimetype": "text/x-python",
   "name": "python",
   "nbconvert_exporter": "python",
   "pygments_lexer": "ipython3",
   "version": "3.10.9"
  }
 },
 "nbformat": 4,
 "nbformat_minor": 5
}
